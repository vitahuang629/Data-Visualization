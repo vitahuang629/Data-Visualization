{
 "cells": [
  {
   "cell_type": "markdown",
   "id": "cbf747c3",
   "metadata": {},
   "source": [
    "## huang-yuting-homework4"
   ]
  },
  {
   "cell_type": "code",
   "execution_count": 1,
   "id": "63d7dcbf",
   "metadata": {},
   "outputs": [],
   "source": [
    "import matplotlib.pyplot as plt\n",
    "import matplotlib\n",
    "import numpy as np\n",
    "import pandas as pd\n",
    "import ipywidgets"
   ]
  },
  {
   "cell_type": "code",
   "execution_count": 2,
   "id": "757c438c",
   "metadata": {},
   "outputs": [],
   "source": [
    "ufo = pd.read_csv('https://github.com/UIUC-iSchool-DataViz/is445_spring2022/raw/master/week05/data/ufo-scrubbed-geocoded-time-standardized-00.csv',\n",
    "                 names = [\"date\", \"city\", \"state\", \"country\", \"shape\", \"duration_seconds\", \"duration\",\n",
    "                          \"comment\", \"report_date\", \"latitude\", \"longitude\"],\n",
    "                 parse_dates = [\"date\", \"report_date\"])"
   ]
  },
  {
   "cell_type": "code",
   "execution_count": 3,
   "id": "ccc95c79",
   "metadata": {},
   "outputs": [
    {
     "data": {
      "text/html": [
       "<div>\n",
       "<style scoped>\n",
       "    .dataframe tbody tr th:only-of-type {\n",
       "        vertical-align: middle;\n",
       "    }\n",
       "\n",
       "    .dataframe tbody tr th {\n",
       "        vertical-align: top;\n",
       "    }\n",
       "\n",
       "    .dataframe thead th {\n",
       "        text-align: right;\n",
       "    }\n",
       "</style>\n",
       "<table border=\"1\" class=\"dataframe\">\n",
       "  <thead>\n",
       "    <tr style=\"text-align: right;\">\n",
       "      <th></th>\n",
       "      <th>date</th>\n",
       "      <th>city</th>\n",
       "      <th>state</th>\n",
       "      <th>country</th>\n",
       "      <th>shape</th>\n",
       "      <th>duration_seconds</th>\n",
       "      <th>duration</th>\n",
       "      <th>comment</th>\n",
       "      <th>report_date</th>\n",
       "      <th>latitude</th>\n",
       "      <th>longitude</th>\n",
       "    </tr>\n",
       "  </thead>\n",
       "  <tbody>\n",
       "    <tr>\n",
       "      <th>0</th>\n",
       "      <td>1949-10-10 20:30:00</td>\n",
       "      <td>san marcos</td>\n",
       "      <td>tx</td>\n",
       "      <td>us</td>\n",
       "      <td>cylinder</td>\n",
       "      <td>2700.0</td>\n",
       "      <td>45 minutes</td>\n",
       "      <td>This event took place in early fall around 194...</td>\n",
       "      <td>2004-04-27</td>\n",
       "      <td>29.883056</td>\n",
       "      <td>-97.941111</td>\n",
       "    </tr>\n",
       "    <tr>\n",
       "      <th>1</th>\n",
       "      <td>1949-10-10 21:00:00</td>\n",
       "      <td>lackland afb</td>\n",
       "      <td>tx</td>\n",
       "      <td>NaN</td>\n",
       "      <td>light</td>\n",
       "      <td>7200.0</td>\n",
       "      <td>1-2 hrs</td>\n",
       "      <td>1949 Lackland AFB&amp;#44 TX.  Lights racing acros...</td>\n",
       "      <td>2005-12-16</td>\n",
       "      <td>29.384210</td>\n",
       "      <td>-98.581082</td>\n",
       "    </tr>\n",
       "    <tr>\n",
       "      <th>2</th>\n",
       "      <td>1955-10-10 17:00:00</td>\n",
       "      <td>chester (uk/england)</td>\n",
       "      <td>NaN</td>\n",
       "      <td>gb</td>\n",
       "      <td>circle</td>\n",
       "      <td>20.0</td>\n",
       "      <td>20 seconds</td>\n",
       "      <td>Green/Orange circular disc over Chester&amp;#44 En...</td>\n",
       "      <td>2008-01-21</td>\n",
       "      <td>53.200000</td>\n",
       "      <td>-2.916667</td>\n",
       "    </tr>\n",
       "    <tr>\n",
       "      <th>3</th>\n",
       "      <td>1956-10-10 21:00:00</td>\n",
       "      <td>edna</td>\n",
       "      <td>tx</td>\n",
       "      <td>us</td>\n",
       "      <td>circle</td>\n",
       "      <td>20.0</td>\n",
       "      <td>1/2 hour</td>\n",
       "      <td>My older brother and twin sister were leaving ...</td>\n",
       "      <td>2004-01-17</td>\n",
       "      <td>28.978333</td>\n",
       "      <td>-96.645833</td>\n",
       "    </tr>\n",
       "    <tr>\n",
       "      <th>4</th>\n",
       "      <td>1960-10-10 20:00:00</td>\n",
       "      <td>kaneohe</td>\n",
       "      <td>hi</td>\n",
       "      <td>us</td>\n",
       "      <td>light</td>\n",
       "      <td>900.0</td>\n",
       "      <td>15 minutes</td>\n",
       "      <td>AS a Marine 1st Lt. flying an FJ4B fighter/att...</td>\n",
       "      <td>2004-01-22</td>\n",
       "      <td>21.418056</td>\n",
       "      <td>-157.803611</td>\n",
       "    </tr>\n",
       "  </tbody>\n",
       "</table>\n",
       "</div>"
      ],
      "text/plain": [
       "                 date                  city state country     shape  \\\n",
       "0 1949-10-10 20:30:00            san marcos    tx      us  cylinder   \n",
       "1 1949-10-10 21:00:00          lackland afb    tx     NaN     light   \n",
       "2 1955-10-10 17:00:00  chester (uk/england)   NaN      gb    circle   \n",
       "3 1956-10-10 21:00:00                  edna    tx      us    circle   \n",
       "4 1960-10-10 20:00:00               kaneohe    hi      us     light   \n",
       "\n",
       "   duration_seconds    duration  \\\n",
       "0            2700.0  45 minutes   \n",
       "1            7200.0     1-2 hrs   \n",
       "2              20.0  20 seconds   \n",
       "3              20.0    1/2 hour   \n",
       "4             900.0  15 minutes   \n",
       "\n",
       "                                             comment report_date   latitude  \\\n",
       "0  This event took place in early fall around 194...  2004-04-27  29.883056   \n",
       "1  1949 Lackland AFB&#44 TX.  Lights racing acros...  2005-12-16  29.384210   \n",
       "2  Green/Orange circular disc over Chester&#44 En...  2008-01-21  53.200000   \n",
       "3  My older brother and twin sister were leaving ...  2004-01-17  28.978333   \n",
       "4  AS a Marine 1st Lt. flying an FJ4B fighter/att...  2004-01-22  21.418056   \n",
       "\n",
       "    longitude  \n",
       "0  -97.941111  \n",
       "1  -98.581082  \n",
       "2   -2.916667  \n",
       "3  -96.645833  \n",
       "4 -157.803611  "
      ]
     },
     "execution_count": 3,
     "metadata": {},
     "output_type": "execute_result"
    }
   ],
   "source": [
    "ufo.head()"
   ]
  },
  {
   "cell_type": "code",
   "execution_count": 4,
   "id": "e4ab5daa",
   "metadata": {},
   "outputs": [],
   "source": [
    "ufo = ufo.fillna({'country':'unknown',\n",
    "                  'state':'unknown', \n",
    "                  'shape':'unknown'})"
   ]
  },
  {
   "cell_type": "code",
   "execution_count": 5,
   "id": "1320dd03",
   "metadata": {},
   "outputs": [
    {
     "data": {
      "text/html": [
       "<div>\n",
       "<style scoped>\n",
       "    .dataframe tbody tr th:only-of-type {\n",
       "        vertical-align: middle;\n",
       "    }\n",
       "\n",
       "    .dataframe tbody tr th {\n",
       "        vertical-align: top;\n",
       "    }\n",
       "\n",
       "    .dataframe thead th {\n",
       "        text-align: right;\n",
       "    }\n",
       "</style>\n",
       "<table border=\"1\" class=\"dataframe\">\n",
       "  <thead>\n",
       "    <tr style=\"text-align: right;\">\n",
       "      <th></th>\n",
       "      <th>date</th>\n",
       "      <th>city</th>\n",
       "      <th>state</th>\n",
       "      <th>country</th>\n",
       "      <th>shape</th>\n",
       "      <th>duration_seconds</th>\n",
       "      <th>duration</th>\n",
       "      <th>comment</th>\n",
       "      <th>report_date</th>\n",
       "      <th>latitude</th>\n",
       "      <th>longitude</th>\n",
       "    </tr>\n",
       "  </thead>\n",
       "  <tbody>\n",
       "    <tr>\n",
       "      <th>0</th>\n",
       "      <td>1949-10-10 20:30:00</td>\n",
       "      <td>san marcos</td>\n",
       "      <td>tx</td>\n",
       "      <td>us</td>\n",
       "      <td>cylinder</td>\n",
       "      <td>2700.0</td>\n",
       "      <td>45 minutes</td>\n",
       "      <td>This event took place in early fall around 194...</td>\n",
       "      <td>2004-04-27</td>\n",
       "      <td>29.883056</td>\n",
       "      <td>-97.941111</td>\n",
       "    </tr>\n",
       "    <tr>\n",
       "      <th>1</th>\n",
       "      <td>1949-10-10 21:00:00</td>\n",
       "      <td>lackland afb</td>\n",
       "      <td>tx</td>\n",
       "      <td>unknown</td>\n",
       "      <td>light</td>\n",
       "      <td>7200.0</td>\n",
       "      <td>1-2 hrs</td>\n",
       "      <td>1949 Lackland AFB&amp;#44 TX.  Lights racing acros...</td>\n",
       "      <td>2005-12-16</td>\n",
       "      <td>29.384210</td>\n",
       "      <td>-98.581082</td>\n",
       "    </tr>\n",
       "    <tr>\n",
       "      <th>2</th>\n",
       "      <td>1955-10-10 17:00:00</td>\n",
       "      <td>chester (uk/england)</td>\n",
       "      <td>unknown</td>\n",
       "      <td>gb</td>\n",
       "      <td>circle</td>\n",
       "      <td>20.0</td>\n",
       "      <td>20 seconds</td>\n",
       "      <td>Green/Orange circular disc over Chester&amp;#44 En...</td>\n",
       "      <td>2008-01-21</td>\n",
       "      <td>53.200000</td>\n",
       "      <td>-2.916667</td>\n",
       "    </tr>\n",
       "    <tr>\n",
       "      <th>3</th>\n",
       "      <td>1956-10-10 21:00:00</td>\n",
       "      <td>edna</td>\n",
       "      <td>tx</td>\n",
       "      <td>us</td>\n",
       "      <td>circle</td>\n",
       "      <td>20.0</td>\n",
       "      <td>1/2 hour</td>\n",
       "      <td>My older brother and twin sister were leaving ...</td>\n",
       "      <td>2004-01-17</td>\n",
       "      <td>28.978333</td>\n",
       "      <td>-96.645833</td>\n",
       "    </tr>\n",
       "    <tr>\n",
       "      <th>4</th>\n",
       "      <td>1960-10-10 20:00:00</td>\n",
       "      <td>kaneohe</td>\n",
       "      <td>hi</td>\n",
       "      <td>us</td>\n",
       "      <td>light</td>\n",
       "      <td>900.0</td>\n",
       "      <td>15 minutes</td>\n",
       "      <td>AS a Marine 1st Lt. flying an FJ4B fighter/att...</td>\n",
       "      <td>2004-01-22</td>\n",
       "      <td>21.418056</td>\n",
       "      <td>-157.803611</td>\n",
       "    </tr>\n",
       "    <tr>\n",
       "      <th>...</th>\n",
       "      <td>...</td>\n",
       "      <td>...</td>\n",
       "      <td>...</td>\n",
       "      <td>...</td>\n",
       "      <td>...</td>\n",
       "      <td>...</td>\n",
       "      <td>...</td>\n",
       "      <td>...</td>\n",
       "      <td>...</td>\n",
       "      <td>...</td>\n",
       "      <td>...</td>\n",
       "    </tr>\n",
       "    <tr>\n",
       "      <th>80327</th>\n",
       "      <td>2013-09-09 21:15:00</td>\n",
       "      <td>nashville</td>\n",
       "      <td>tn</td>\n",
       "      <td>us</td>\n",
       "      <td>light</td>\n",
       "      <td>600.0</td>\n",
       "      <td>10 minutes</td>\n",
       "      <td>Round from the distance/slowly changing colors...</td>\n",
       "      <td>2013-09-30</td>\n",
       "      <td>36.165833</td>\n",
       "      <td>-86.784444</td>\n",
       "    </tr>\n",
       "    <tr>\n",
       "      <th>80328</th>\n",
       "      <td>2013-09-09 22:00:00</td>\n",
       "      <td>boise</td>\n",
       "      <td>id</td>\n",
       "      <td>us</td>\n",
       "      <td>circle</td>\n",
       "      <td>1200.0</td>\n",
       "      <td>20 minutes</td>\n",
       "      <td>Boise&amp;#44 ID&amp;#44 spherical&amp;#44 20 min&amp;#44 10 r...</td>\n",
       "      <td>2013-09-30</td>\n",
       "      <td>43.613611</td>\n",
       "      <td>-116.202500</td>\n",
       "    </tr>\n",
       "    <tr>\n",
       "      <th>80329</th>\n",
       "      <td>2013-09-09 22:00:00</td>\n",
       "      <td>napa</td>\n",
       "      <td>ca</td>\n",
       "      <td>us</td>\n",
       "      <td>other</td>\n",
       "      <td>1200.0</td>\n",
       "      <td>hour</td>\n",
       "      <td>Napa UFO&amp;#44</td>\n",
       "      <td>2013-09-30</td>\n",
       "      <td>38.297222</td>\n",
       "      <td>-122.284444</td>\n",
       "    </tr>\n",
       "    <tr>\n",
       "      <th>80330</th>\n",
       "      <td>2013-09-09 22:20:00</td>\n",
       "      <td>vienna</td>\n",
       "      <td>va</td>\n",
       "      <td>us</td>\n",
       "      <td>circle</td>\n",
       "      <td>5.0</td>\n",
       "      <td>5 seconds</td>\n",
       "      <td>Saw a five gold lit cicular craft moving fastl...</td>\n",
       "      <td>2013-09-30</td>\n",
       "      <td>38.901111</td>\n",
       "      <td>-77.265556</td>\n",
       "    </tr>\n",
       "    <tr>\n",
       "      <th>80331</th>\n",
       "      <td>2013-09-09 23:00:00</td>\n",
       "      <td>edmond</td>\n",
       "      <td>ok</td>\n",
       "      <td>us</td>\n",
       "      <td>cigar</td>\n",
       "      <td>1020.0</td>\n",
       "      <td>17 minutes</td>\n",
       "      <td>2 witnesses 2  miles apart&amp;#44 Red &amp;amp; White...</td>\n",
       "      <td>2013-09-30</td>\n",
       "      <td>35.652778</td>\n",
       "      <td>-97.477778</td>\n",
       "    </tr>\n",
       "  </tbody>\n",
       "</table>\n",
       "<p>80332 rows × 11 columns</p>\n",
       "</div>"
      ],
      "text/plain": [
       "                     date                  city    state  country     shape  \\\n",
       "0     1949-10-10 20:30:00            san marcos       tx       us  cylinder   \n",
       "1     1949-10-10 21:00:00          lackland afb       tx  unknown     light   \n",
       "2     1955-10-10 17:00:00  chester (uk/england)  unknown       gb    circle   \n",
       "3     1956-10-10 21:00:00                  edna       tx       us    circle   \n",
       "4     1960-10-10 20:00:00               kaneohe       hi       us     light   \n",
       "...                   ...                   ...      ...      ...       ...   \n",
       "80327 2013-09-09 21:15:00             nashville       tn       us     light   \n",
       "80328 2013-09-09 22:00:00                 boise       id       us    circle   \n",
       "80329 2013-09-09 22:00:00                  napa       ca       us     other   \n",
       "80330 2013-09-09 22:20:00                vienna       va       us    circle   \n",
       "80331 2013-09-09 23:00:00                edmond       ok       us     cigar   \n",
       "\n",
       "       duration_seconds    duration  \\\n",
       "0                2700.0  45 minutes   \n",
       "1                7200.0     1-2 hrs   \n",
       "2                  20.0  20 seconds   \n",
       "3                  20.0    1/2 hour   \n",
       "4                 900.0  15 minutes   \n",
       "...                 ...         ...   \n",
       "80327             600.0  10 minutes   \n",
       "80328            1200.0  20 minutes   \n",
       "80329            1200.0        hour   \n",
       "80330               5.0   5 seconds   \n",
       "80331            1020.0  17 minutes   \n",
       "\n",
       "                                                 comment report_date  \\\n",
       "0      This event took place in early fall around 194...  2004-04-27   \n",
       "1      1949 Lackland AFB&#44 TX.  Lights racing acros...  2005-12-16   \n",
       "2      Green/Orange circular disc over Chester&#44 En...  2008-01-21   \n",
       "3      My older brother and twin sister were leaving ...  2004-01-17   \n",
       "4      AS a Marine 1st Lt. flying an FJ4B fighter/att...  2004-01-22   \n",
       "...                                                  ...         ...   \n",
       "80327  Round from the distance/slowly changing colors...  2013-09-30   \n",
       "80328  Boise&#44 ID&#44 spherical&#44 20 min&#44 10 r...  2013-09-30   \n",
       "80329                                       Napa UFO&#44  2013-09-30   \n",
       "80330  Saw a five gold lit cicular craft moving fastl...  2013-09-30   \n",
       "80331  2 witnesses 2  miles apart&#44 Red &amp; White...  2013-09-30   \n",
       "\n",
       "        latitude   longitude  \n",
       "0      29.883056  -97.941111  \n",
       "1      29.384210  -98.581082  \n",
       "2      53.200000   -2.916667  \n",
       "3      28.978333  -96.645833  \n",
       "4      21.418056 -157.803611  \n",
       "...          ...         ...  \n",
       "80327  36.165833  -86.784444  \n",
       "80328  43.613611 -116.202500  \n",
       "80329  38.297222 -122.284444  \n",
       "80330  38.901111  -77.265556  \n",
       "80331  35.652778  -97.477778  \n",
       "\n",
       "[80332 rows x 11 columns]"
      ]
     },
     "execution_count": 5,
     "metadata": {},
     "output_type": "execute_result"
    }
   ],
   "source": [
    "ufo"
   ]
  },
  {
   "cell_type": "code",
   "execution_count": 6,
   "id": "78781cb0",
   "metadata": {},
   "outputs": [],
   "source": [
    "nsamples = 1000\n",
    "downSampleMask = np.random.choice(range(len(ufo)-1), nsamples, replace = False)"
   ]
  },
  {
   "cell_type": "code",
   "execution_count": 7,
   "id": "8259428e",
   "metadata": {},
   "outputs": [
    {
     "data": {
      "text/plain": [
       "array([50252,  1174, 78383, 54933,  1904, 67595,  1794, 11752, 36452,\n",
       "       79636, 76853, 42212,  1279, 53424, 42971, 74203, 13304,  9398,\n",
       "       32747, 63377, 12701, 64172, 58715, 38644, 57513, 58281, 33880,\n",
       "       72839, 12690, 58813, 49372, 53572, 45300, 59426, 80222, 74453,\n",
       "       41479, 40428, 32929, 15601, 56402, 63692, 17056, 36550, 20164,\n",
       "       44207, 35133, 77432, 44608, 38547, 18144, 49255, 14169, 72575,\n",
       "       41649, 28618, 58782, 15122,  7755, 17341, 21503, 59599, 59663,\n",
       "        7197, 56068, 71119, 56237, 25260, 29748, 14620, 41302, 56824,\n",
       "       70859, 19309,   336, 51139, 75166,   915, 66621, 78039, 14215,\n",
       "       43632,  4201, 72418, 68165, 61738, 13777, 33068,  7400, 70208,\n",
       "       54493,  6028,  8061,  1245, 43811, 19957, 16717, 57425, 77690,\n",
       "        7054,  3195, 44549, 40056, 55509, 48321, 43673, 49207, 10154,\n",
       "       39626, 19855, 77426, 19608, 62506, 47247, 11206, 36873, 66203,\n",
       "       37473, 35262, 42020, 55694,  1323, 27397, 62381, 25987, 43752,\n",
       "       73894, 71370, 60544, 43640, 25206, 58480, 70705, 11662, 61980,\n",
       "       40632, 54663, 31348, 22752, 29023, 50747, 48652, 30610, 55377,\n",
       "       21357, 18673, 16219, 49813, 37501, 43429, 19308, 49422, 67298,\n",
       "       59774,  1953, 45488, 24750,  9885,  2235, 80039, 30770, 48199,\n",
       "       65398, 48443, 35328, 29874, 40976, 35628, 16799, 26947, 16272,\n",
       "       29764, 53412, 18066, 68668, 56485, 48046, 36850, 64453, 14336,\n",
       "       65521, 43842, 21499, 45151, 49601, 63789, 34691, 32282, 73499,\n",
       "       65432, 37557, 80025, 52420, 48118, 64099,  2563, 75757, 21825,\n",
       "       53150, 15778, 79620, 73489, 49908, 64868, 30740,  1856,  6314,\n",
       "       24657, 56733, 52615, 47111, 33808, 74312, 54700, 36948, 74993,\n",
       "       42997, 62294, 57106, 49557, 54539, 39019, 31560, 72726, 50530,\n",
       "       32839, 79797, 36505, 57219, 14105, 48366, 80106, 49131,  7486,\n",
       "       38366,   413, 31981, 21009, 50445, 63551, 79357, 30417, 39164,\n",
       "       23592, 21322, 67882, 20038, 44040, 38126, 37834, 29391,  2927,\n",
       "       78051, 30287, 63925, 34834, 79594, 38673, 53219, 66620, 29065,\n",
       "       22849, 11659, 43465, 58344, 32187, 12012, 78696, 26381, 53185,\n",
       "       19084, 39957, 50669, 36877, 59223,  9314,   424, 31570, 79761,\n",
       "       10682, 55241, 71877, 29061, 65024, 75009, 71827, 70155, 40593,\n",
       "       74872, 72304, 46128, 72647, 34514, 70062, 51706, 57201, 33105,\n",
       "        6149, 32351,  8559, 53139, 64132, 30429, 10956,  4445, 28272,\n",
       "       43120,  8544, 17802, 71184, 50815, 36828, 27886, 43453, 18931,\n",
       "       62234, 11399, 36111, 53425, 13941, 70759, 12133, 17677, 14558,\n",
       "       37303, 63552,  6932, 60915, 38022, 70453, 74017, 21082, 27471,\n",
       "        6575, 47654, 22837, 56617, 15381, 37451, 19578, 42330, 31674,\n",
       "        7240, 78835, 62402,  1198, 42350, 74370, 38861, 21192, 24867,\n",
       "       51023, 41333, 73108,  4461,  9022, 43157, 14781, 56562, 28299,\n",
       "        1673, 60546, 58426, 27180, 67376, 19068, 24005, 78486, 17182,\n",
       "       77274, 44980, 24856, 72525, 54404, 21514, 72682, 17046, 15488,\n",
       "       11895, 65203, 42497, 38215, 32236, 45457, 36463, 38827, 28131,\n",
       "       50872, 25952, 35363, 29947, 37724,  4467, 29411, 15326, 61771,\n",
       "       45526, 55628, 50472, 50356, 63524,  6556, 75800, 60727,  7391,\n",
       "       76178, 57667, 14437, 33798, 31989, 30587, 14651, 50424, 67412,\n",
       "       68297, 12677, 72690, 34974, 37272, 27452, 36662,   517, 46832,\n",
       "       27151, 68005, 17951, 21719, 25119, 59467, 68738,  6113,   748,\n",
       "       78033,  4131, 12320, 75409, 37282, 31408, 21078, 78978, 40365,\n",
       "       29266, 69582, 44297, 34841, 44976, 44168, 72634, 52050, 71654,\n",
       "       52296, 43647, 46146, 45712, 18027, 22930, 33716, 48282, 57298,\n",
       "       29463,  6471, 41546,  7538, 28402, 32158, 52602, 12505, 79135,\n",
       "       51127, 54900, 56573, 71658, 66752, 67133, 16246, 27403, 16372,\n",
       "       72730, 28994, 66739, 70431, 52377,  7542, 19466, 66515, 35130,\n",
       "       16656, 56728, 25600, 26352,  9615, 46943, 25107, 10177, 23002,\n",
       "       64498, 59765,  4251, 69623, 80098, 37579, 26787, 54525, 69752,\n",
       "       21153, 79957,  5348,  6976, 23060, 32859, 58695, 65410, 70280,\n",
       "       18902, 19029, 23000, 32040, 40163, 73296, 50293, 48971, 44335,\n",
       "        1725, 74723, 70320, 12678, 79176, 16394, 11917, 45720, 39781,\n",
       "       20773, 57676, 11927, 72416, 53307, 58374, 45162, 43165, 71633,\n",
       "       23502, 57579, 79425, 66228, 39111, 70872, 30841, 56898, 75883,\n",
       "        9869, 12228,  1149, 51659, 57359, 26144, 14574, 62835, 79655,\n",
       "       22021, 36073,  8386, 80012, 11237, 73921,  4049, 47197, 39564,\n",
       "       57512, 77202, 59609, 46450, 71304, 58744, 19738, 25916, 53042,\n",
       "         610, 14033, 71285, 40475, 44698,  3090, 53614, 11697, 46912,\n",
       "       64186, 16192, 37979, 55039, 29013, 58063, 17032, 53378, 59923,\n",
       "       37064, 56306, 54651, 49194,  8880, 24433, 33438, 30558,  7688,\n",
       "       69708, 37512, 63887, 66796, 27295, 68521,  3112, 13804, 47537,\n",
       "       18266,  9907, 11612, 21903,  9688, 63159, 72278, 40523, 42300,\n",
       "       17408, 19135, 68966, 25170, 51313, 14828,  8010, 43929, 75935,\n",
       "       23145, 42999, 64458, 27047, 26575, 46081, 30797, 62431, 64817,\n",
       "       27308, 71225, 60435,   400, 48327, 59820, 67197, 44098,  2728,\n",
       "       10110, 65692, 10607, 32302, 61253, 62370, 45497, 29539, 55673,\n",
       "       12088, 11503, 72597, 59010, 50151, 51375, 32439, 11191, 74840,\n",
       "        5068, 37441, 78485, 67486, 33665, 32459, 78926, 79722, 35089,\n",
       "       42368, 55870,   823, 16880, 39032, 77357,  9781, 58671,   998,\n",
       "       34272, 68549,   780, 38597, 11031, 32311, 19865, 73533, 78905,\n",
       "       23762,  8913, 68236, 32896, 52793, 17985, 72449, 46379, 68374,\n",
       "       10040, 64649, 57929, 42694, 45458, 51100, 67047, 41709,  2355,\n",
       "       54027,  8020, 79514, 76514, 55817, 58579, 16124, 59874, 60591,\n",
       "       45004, 12979, 54824, 71057, 34677, 44577, 23478, 23650,  2208,\n",
       "       53647,  9699,  6607, 55560, 70437, 27765, 45297, 55435, 49093,\n",
       "        4378, 51230, 61683, 54887, 76638,  1587, 76373, 25788, 11026,\n",
       "       43548, 56563, 30410, 71162, 80104, 72275, 47110, 70499, 79525,\n",
       "       34715, 42472, 62984, 55278, 47854, 28650, 21175, 14528, 41680,\n",
       "       16319,  5891, 58454,  6546, 45854, 47925, 12406, 22384, 69327,\n",
       "       19195, 56602, 41204,  6625, 32041,  9429,  7070, 24604, 10252,\n",
       "       40789, 78534, 23810, 53758, 65102,   903, 59906, 31006, 24381,\n",
       "       44246, 36585, 56035,  7094, 29525, 19233, 63412, 56777, 51013,\n",
       "       62380, 65207, 30342, 31928, 75210, 38680,  3493,  7495, 16267,\n",
       "       47687, 70365, 21552, 53245, 26885, 21845,  3583, 50557,  3228,\n",
       "       68850, 74797, 64603, 63869,  1831, 39999, 30008, 41626, 27613,\n",
       "       52718, 19363,  6613,  5747, 44269, 44807, 15625, 48152, 19710,\n",
       "       78125,  7011, 61535,  2756, 49415,  7874, 17828, 44773, 53409,\n",
       "       74613, 45846, 62808,  2465, 47443, 67632,  4638, 22832, 26714,\n",
       "       40336, 35188, 51446, 24626, 22136, 19636, 14396,  5508, 78404,\n",
       "       26049, 36383, 41170, 55531, 12455, 76182, 38650, 27208, 12009,\n",
       "       52909,  8199, 42625, 78590, 33127, 26187, 49586, 55608, 29292,\n",
       "       61421, 48785, 74698, 62037, 13502, 29805, 18980,  3939,  9630,\n",
       "       65678, 38766, 11202, 48928, 24295, 49886, 58459, 39838, 59525,\n",
       "       36155, 38336, 52678, 10578, 40561, 79079, 66371, 58989, 29548,\n",
       "       61095, 43706,  3657,  7733, 42000, 22043, 43736,  6916,  7317,\n",
       "        8675,   153, 41959, 18935, 11533, 41064, 61400, 22283,  3661,\n",
       "       35048, 12165,     8, 27165,  3415, 51621, 35979, 70230, 61325,\n",
       "       29434,  7373, 18524, 37889, 35978, 57694, 70397, 32689, 55318,\n",
       "        9718, 30307, 10601, 40003, 38402, 23392, 59731, 16988, 60693,\n",
       "       20073, 50642, 29716, 64238, 17755, 53658, 58557, 71711, 73574,\n",
       "       53351, 60240, 26724, 58231, 16896, 60028, 46166, 30396, 43908,\n",
       "       58593, 42194, 16597, 39191, 61394, 46949,  3523,  1249,  4910,\n",
       "       60244, 37648, 54100, 42821, 52295, 39482, 59631,  2776, 61682,\n",
       "       52035, 41972, 34116,  3712, 53919,  7329, 29877,  3457, 19525,\n",
       "        8325])"
      ]
     },
     "execution_count": 7,
     "metadata": {},
     "output_type": "execute_result"
    }
   ],
   "source": [
    "downSampleMask"
   ]
  },
  {
   "cell_type": "code",
   "execution_count": 8,
   "id": "6163e3ed",
   "metadata": {},
   "outputs": [],
   "source": [
    "ufoDS = ufo.loc[downSampleMask]"
   ]
  },
  {
   "cell_type": "code",
   "execution_count": 9,
   "id": "8b84272f",
   "metadata": {},
   "outputs": [
    {
     "data": {
      "text/html": [
       "<div>\n",
       "<style scoped>\n",
       "    .dataframe tbody tr th:only-of-type {\n",
       "        vertical-align: middle;\n",
       "    }\n",
       "\n",
       "    .dataframe tbody tr th {\n",
       "        vertical-align: top;\n",
       "    }\n",
       "\n",
       "    .dataframe thead th {\n",
       "        text-align: right;\n",
       "    }\n",
       "</style>\n",
       "<table border=\"1\" class=\"dataframe\">\n",
       "  <thead>\n",
       "    <tr style=\"text-align: right;\">\n",
       "      <th></th>\n",
       "      <th>date</th>\n",
       "      <th>city</th>\n",
       "      <th>state</th>\n",
       "      <th>country</th>\n",
       "      <th>shape</th>\n",
       "      <th>duration_seconds</th>\n",
       "      <th>duration</th>\n",
       "      <th>comment</th>\n",
       "      <th>report_date</th>\n",
       "      <th>latitude</th>\n",
       "      <th>longitude</th>\n",
       "    </tr>\n",
       "  </thead>\n",
       "  <tbody>\n",
       "    <tr>\n",
       "      <th>50252</th>\n",
       "      <td>1965-06-20 02:00:00</td>\n",
       "      <td>albuquerque</td>\n",
       "      <td>nm</td>\n",
       "      <td>us</td>\n",
       "      <td>disk</td>\n",
       "      <td>300.0</td>\n",
       "      <td>5 minutes</td>\n",
       "      <td>Traveling in a pick up truck&amp;#44 we saw a brig...</td>\n",
       "      <td>1999-05-24</td>\n",
       "      <td>35.084444</td>\n",
       "      <td>-106.650556</td>\n",
       "    </tr>\n",
       "    <tr>\n",
       "      <th>1174</th>\n",
       "      <td>2012-10-12 20:00:00</td>\n",
       "      <td>waukesha</td>\n",
       "      <td>wi</td>\n",
       "      <td>us</td>\n",
       "      <td>circle</td>\n",
       "      <td>900.0</td>\n",
       "      <td>15 minutes</td>\n",
       "      <td>25 orange lights in the sky</td>\n",
       "      <td>2012-10-30</td>\n",
       "      <td>43.011667</td>\n",
       "      <td>-88.231389</td>\n",
       "    </tr>\n",
       "    <tr>\n",
       "      <th>78383</th>\n",
       "      <td>1999-09-29 18:45:00</td>\n",
       "      <td>nashville</td>\n",
       "      <td>tn</td>\n",
       "      <td>us</td>\n",
       "      <td>fireball</td>\n",
       "      <td>300.0</td>\n",
       "      <td>5 minutes</td>\n",
       "      <td>fiery object looking like craft in movie &amp;quot...</td>\n",
       "      <td>1999-10-02</td>\n",
       "      <td>36.165833</td>\n",
       "      <td>-86.784444</td>\n",
       "    </tr>\n",
       "    <tr>\n",
       "      <th>54933</th>\n",
       "      <td>2002-07-11 21:30:00</td>\n",
       "      <td>toronto (canada)</td>\n",
       "      <td>on</td>\n",
       "      <td>ca</td>\n",
       "      <td>changing</td>\n",
       "      <td>600.0</td>\n",
       "      <td>10 minutes</td>\n",
       "      <td>This is not the first time I have seen weird o...</td>\n",
       "      <td>2002-07-26</td>\n",
       "      <td>43.666667</td>\n",
       "      <td>-79.416667</td>\n",
       "    </tr>\n",
       "    <tr>\n",
       "      <th>1904</th>\n",
       "      <td>1994-10-15 21:00:00</td>\n",
       "      <td>outside of delaware</td>\n",
       "      <td>oh</td>\n",
       "      <td>unknown</td>\n",
       "      <td>teardrop</td>\n",
       "      <td>7200.0</td>\n",
       "      <td>21:00 to 23:00</td>\n",
       "      <td>Four UFOs and a mothership on tape</td>\n",
       "      <td>2006-10-30</td>\n",
       "      <td>40.298672</td>\n",
       "      <td>-83.067965</td>\n",
       "    </tr>\n",
       "    <tr>\n",
       "      <th>...</th>\n",
       "      <td>...</td>\n",
       "      <td>...</td>\n",
       "      <td>...</td>\n",
       "      <td>...</td>\n",
       "      <td>...</td>\n",
       "      <td>...</td>\n",
       "      <td>...</td>\n",
       "      <td>...</td>\n",
       "      <td>...</td>\n",
       "      <td>...</td>\n",
       "      <td>...</td>\n",
       "    </tr>\n",
       "    <tr>\n",
       "      <th>7329</th>\n",
       "      <td>2010-10-09 18:30:00</td>\n",
       "      <td>oak lawn</td>\n",
       "      <td>il</td>\n",
       "      <td>us</td>\n",
       "      <td>rectangle</td>\n",
       "      <td>1200.0</td>\n",
       "      <td>20 minutes</td>\n",
       "      <td>Bright lights</td>\n",
       "      <td>2010-11-21</td>\n",
       "      <td>41.710833</td>\n",
       "      <td>-87.758056</td>\n",
       "    </tr>\n",
       "    <tr>\n",
       "      <th>29877</th>\n",
       "      <td>2002-02-08 05:30:00</td>\n",
       "      <td>beloit/milwaukee (between)</td>\n",
       "      <td>wi</td>\n",
       "      <td>unknown</td>\n",
       "      <td>changing</td>\n",
       "      <td>3600.0</td>\n",
       "      <td>approximately 1 hour</td>\n",
       "      <td>The object appeared cigar-shaped and emitted s...</td>\n",
       "      <td>2007-02-01</td>\n",
       "      <td>42.518191</td>\n",
       "      <td>-88.998889</td>\n",
       "    </tr>\n",
       "    <tr>\n",
       "      <th>3457</th>\n",
       "      <td>2004-10-21 21:30:00</td>\n",
       "      <td>san antonio</td>\n",
       "      <td>tx</td>\n",
       "      <td>us</td>\n",
       "      <td>triangle</td>\n",
       "      <td>30.0</td>\n",
       "      <td>30sec</td>\n",
       "      <td>I had step outside for last smoke of the day k...</td>\n",
       "      <td>2004-10-27</td>\n",
       "      <td>29.423889</td>\n",
       "      <td>-98.493333</td>\n",
       "    </tr>\n",
       "    <tr>\n",
       "      <th>19525</th>\n",
       "      <td>1970-01-22 10:00:00</td>\n",
       "      <td>san mateo</td>\n",
       "      <td>ca</td>\n",
       "      <td>us</td>\n",
       "      <td>sphere</td>\n",
       "      <td>30.0</td>\n",
       "      <td>30 seconds</td>\n",
       "      <td>Schools kids witness UFO</td>\n",
       "      <td>2011-12-12</td>\n",
       "      <td>37.563056</td>\n",
       "      <td>-122.324444</td>\n",
       "    </tr>\n",
       "    <tr>\n",
       "      <th>8325</th>\n",
       "      <td>2003-11-01 23:00:00</td>\n",
       "      <td>philadelphia</td>\n",
       "      <td>pa</td>\n",
       "      <td>us</td>\n",
       "      <td>circle</td>\n",
       "      <td>600.0</td>\n",
       "      <td>10 min</td>\n",
       "      <td>Kings Dominion Circle&amp;#44 seen at night five y...</td>\n",
       "      <td>2009-08-05</td>\n",
       "      <td>39.952222</td>\n",
       "      <td>-75.164167</td>\n",
       "    </tr>\n",
       "  </tbody>\n",
       "</table>\n",
       "<p>1000 rows × 11 columns</p>\n",
       "</div>"
      ],
      "text/plain": [
       "                     date                        city state  country  \\\n",
       "50252 1965-06-20 02:00:00                 albuquerque    nm       us   \n",
       "1174  2012-10-12 20:00:00                    waukesha    wi       us   \n",
       "78383 1999-09-29 18:45:00                   nashville    tn       us   \n",
       "54933 2002-07-11 21:30:00            toronto (canada)    on       ca   \n",
       "1904  1994-10-15 21:00:00         outside of delaware    oh  unknown   \n",
       "...                   ...                         ...   ...      ...   \n",
       "7329  2010-10-09 18:30:00                    oak lawn    il       us   \n",
       "29877 2002-02-08 05:30:00  beloit/milwaukee (between)    wi  unknown   \n",
       "3457  2004-10-21 21:30:00                 san antonio    tx       us   \n",
       "19525 1970-01-22 10:00:00                   san mateo    ca       us   \n",
       "8325  2003-11-01 23:00:00                philadelphia    pa       us   \n",
       "\n",
       "           shape  duration_seconds              duration  \\\n",
       "50252       disk             300.0             5 minutes   \n",
       "1174      circle             900.0            15 minutes   \n",
       "78383   fireball             300.0             5 minutes   \n",
       "54933   changing             600.0            10 minutes   \n",
       "1904    teardrop            7200.0        21:00 to 23:00   \n",
       "...          ...               ...                   ...   \n",
       "7329   rectangle            1200.0            20 minutes   \n",
       "29877   changing            3600.0  approximately 1 hour   \n",
       "3457    triangle              30.0                 30sec   \n",
       "19525     sphere              30.0            30 seconds   \n",
       "8325      circle             600.0                10 min   \n",
       "\n",
       "                                                 comment report_date  \\\n",
       "50252  Traveling in a pick up truck&#44 we saw a brig...  1999-05-24   \n",
       "1174                         25 orange lights in the sky  2012-10-30   \n",
       "78383  fiery object looking like craft in movie &quot...  1999-10-02   \n",
       "54933  This is not the first time I have seen weird o...  2002-07-26   \n",
       "1904                  Four UFOs and a mothership on tape  2006-10-30   \n",
       "...                                                  ...         ...   \n",
       "7329                                       Bright lights  2010-11-21   \n",
       "29877  The object appeared cigar-shaped and emitted s...  2007-02-01   \n",
       "3457   I had step outside for last smoke of the day k...  2004-10-27   \n",
       "19525                           Schools kids witness UFO  2011-12-12   \n",
       "8325   Kings Dominion Circle&#44 seen at night five y...  2009-08-05   \n",
       "\n",
       "        latitude   longitude  \n",
       "50252  35.084444 -106.650556  \n",
       "1174   43.011667  -88.231389  \n",
       "78383  36.165833  -86.784444  \n",
       "54933  43.666667  -79.416667  \n",
       "1904   40.298672  -83.067965  \n",
       "...          ...         ...  \n",
       "7329   41.710833  -87.758056  \n",
       "29877  42.518191  -88.998889  \n",
       "3457   29.423889  -98.493333  \n",
       "19525  37.563056 -122.324444  \n",
       "8325   39.952222  -75.164167  \n",
       "\n",
       "[1000 rows x 11 columns]"
      ]
     },
     "execution_count": 9,
     "metadata": {},
     "output_type": "execute_result"
    }
   ],
   "source": [
    "ufoDS #using this dataset for plotting"
   ]
  },
  {
   "cell_type": "markdown",
   "id": "849d0389",
   "metadata": {},
   "source": [
    "## 1. Allows the user to change the x and y fields on a scatter plot from the UFO dataset.  Here the \"fields\" are the names of the columns in the dataset.  (Do you want the user to be able to pick any 2 columns?  Or only certain columns?  Why or why not?). You must support the selection of at least 1 categorical column and at least 1 numerical column in for each of x and y.  Note: you don't have to support both axis having a categorical variable (unless you really want to!)."
   ]
  },
  {
   "cell_type": "code",
   "execution_count": 10,
   "id": "c7f9889d",
   "metadata": {},
   "outputs": [],
   "source": [
    "def ufo_xy(x, y, take_log = True):\n",
    "    if take_log:\n",
    "        log = np.log10(ufoDS['duration_seconds'])\n",
    "    else:\n",
    "        log = ufoDS['duration_seconds']\n",
    "    plt.scatter(ufoDS[x], ufoDS[y], c = log ,cmap='rainbow')\n",
    "    plt.show()\n"
   ]
  },
  {
   "cell_type": "code",
   "execution_count": 11,
   "id": "6d9613a1",
   "metadata": {},
   "outputs": [
    {
     "data": {
      "image/png": "[encoded data removed]",
      "text/plain": [
       "<Figure size 432x288 with 1 Axes>"
      ]
     },
     "metadata": {
      "needs_background": "light"
     },
     "output_type": "display_data"
    }
   ],
   "source": [
    "ufo_xy('country', 'latitude')"
   ]
  },
  {
   "cell_type": "code",
   "execution_count": 12,
   "id": "e033d83e",
   "metadata": {},
   "outputs": [
    {
     "data": {
      "text/plain": [
       "Index(['date', 'city', 'state', 'country', 'shape', 'duration_seconds',\n",
       "       'duration', 'comment', 'report_date', 'latitude', 'longitude'],\n",
       "      dtype='object')"
      ]
     },
     "execution_count": 12,
     "metadata": {},
     "output_type": "execute_result"
    }
   ],
   "source": [
    "ufoDS.columns"
   ]
  },
  {
   "cell_type": "code",
   "execution_count": 13,
   "id": "f167e0c2",
   "metadata": {},
   "outputs": [
    {
     "data": {
      "text/plain": [
       "date                datetime64[ns]\n",
       "city                        object\n",
       "state                       object\n",
       "country                     object\n",
       "shape                       object\n",
       "duration_seconds           float64\n",
       "duration                    object\n",
       "comment                     object\n",
       "report_date         datetime64[ns]\n",
       "latitude                   float64\n",
       "longitude                  float64\n",
       "dtype: object"
      ]
     },
     "execution_count": 13,
     "metadata": {},
     "output_type": "execute_result"
    }
   ],
   "source": [
    "ufoDS.dtypes"
   ]
  },
  {
   "cell_type": "code",
   "execution_count": 14,
   "id": "8f80e8dc",
   "metadata": {},
   "outputs": [],
   "source": [
    "ufoDS.select_dtypes?"
   ]
  },
  {
   "cell_type": "code",
   "execution_count": 15,
   "id": "e54db0b1",
   "metadata": {},
   "outputs": [
    {
     "data": {
      "application/vnd.jupyter.widget-view+json": {
       "model_id": "e087c58ecef042559219a1fde020434a",
       "version_major": 2,
       "version_minor": 0
      },
      "text/plain": [
       "Dropdown(description='Select a categorical column:', options=('date', 'city', 'state', 'country', 'shape', 'du…"
      ]
     },
     "metadata": {},
     "output_type": "display_data"
    }
   ],
   "source": [
    "# Reference: https://towardsdatascience.com/interactive-controls-for-jupyter-notebooks-f5c94829aee6\n",
    "# select_dtyles function\n",
    "# Reference: https://vimsky.com/examples/usage/python-pandas-dataframe-select_dtypes.html\n",
    "# include, exclude functions\n",
    "# x-widgets is designed for choosing categorical variables by using select_dtypes\n",
    "x = ipywidgets.Dropdown(options = list(ufoDS.select_dtypes(exclude='number').columns), description = 'Select a categorical column:')\n",
    "x"
   ]
  },
  {
   "cell_type": "code",
   "execution_count": 16,
   "id": "76eb2bb1",
   "metadata": {},
   "outputs": [
    {
     "data": {
      "application/vnd.jupyter.widget-view+json": {
       "model_id": "e087c58ecef042559219a1fde020434a",
       "version_major": 2,
       "version_minor": 0
      },
      "text/plain": [
       "Dropdown(description='Select a categorical column:', options=('date', 'city', 'state', 'country', 'shape', 'du…"
      ]
     },
     "metadata": {},
     "output_type": "display_data"
    }
   ],
   "source": [
    "x.style.description_width = 'initial'\n",
    "x"
   ]
  },
  {
   "cell_type": "code",
   "execution_count": 17,
   "id": "9d749adf",
   "metadata": {
    "scrolled": true
   },
   "outputs": [
    {
     "data": {
      "application/vnd.jupyter.widget-view+json": {
       "model_id": "ccabddab406d4729bc4b779fbb2932ef",
       "version_major": 2,
       "version_minor": 0
      },
      "text/plain": [
       "Dropdown(description='Select a numerical column:', options=('duration_seconds', 'latitude', 'longitude'), valu…"
      ]
     },
     "metadata": {},
     "output_type": "display_data"
    }
   ],
   "source": [
    "# y-widgets is designed for choosing numerical variables by using select_dtypes\n",
    "y = ipywidgets.Dropdown(options = list(ufoDS.select_dtypes(include='number').columns), description = 'Select a numerical column:')\n",
    "y"
   ]
  },
  {
   "cell_type": "code",
   "execution_count": 18,
   "id": "951bc93f",
   "metadata": {
    "scrolled": true
   },
   "outputs": [
    {
     "data": {
      "application/vnd.jupyter.widget-view+json": {
       "model_id": "ccabddab406d4729bc4b779fbb2932ef",
       "version_major": 2,
       "version_minor": 0
      },
      "text/plain": [
       "Dropdown(description='Select a numerical column:', options=('duration_seconds', 'latitude', 'longitude'), styl…"
      ]
     },
     "metadata": {},
     "output_type": "display_data"
    }
   ],
   "source": [
    "y.style.description_width = 'initial'\n",
    "y"
   ]
  },
  {
   "cell_type": "code",
   "execution_count": 19,
   "id": "09adfbee",
   "metadata": {},
   "outputs": [
    {
     "data": {
      "application/vnd.jupyter.widget-view+json": {
       "model_id": "845d6aed97b5457699207965c7bb4d47",
       "version_major": 2,
       "version_minor": 0
      },
      "text/plain": [
       "VBox(children=(Dropdown(description='Select a categorical column:', options=('date', 'city', 'state', 'country…"
      ]
     },
     "metadata": {},
     "output_type": "display_data"
    }
   ],
   "source": [
    "ipywidgets.VBox([x, y])"
   ]
  },
  {
   "cell_type": "code",
   "execution_count": 20,
   "id": "ef02e7fe",
   "metadata": {},
   "outputs": [],
   "source": [
    "def ufo_xy(x, y):\n",
    "    with plt.style.context('ggplot'):\n",
    "        fig = plt.figure(figsize=(8, 4))\n",
    "    #if take_log:\n",
    "        #log = np.log10(ufoDS['duration_seconds'])\n",
    "    #else:\n",
    "        #log = ufo['duration_seconds']\n",
    "        #plt.scatter(x = ufoDS[x], y = ufoDS[y], c = log ,s = 20,cmap = 'rainbow')\n",
    "        plt.scatter(x = ufoDS[x], y = ufoDS[y],c =np.log10(ufoDS['duration_seconds'])  ,s = 20,cmap = 'rainbow')\n",
    "        plt.xlabel(x.capitalize())\n",
    "        plt.ylabel(y.capitalize())\n",
    "        plt.title(\"%s vs %s\"%(x.capitalize(), y.capitalize()))\n",
    "        plt.show()"
   ]
  },
  {
   "cell_type": "code",
   "execution_count": 21,
   "id": "a8a48abe",
   "metadata": {},
   "outputs": [],
   "source": [
    "#References: https://coderzcolumn.com/tutorials/data-science/interactive-charts-using-matplotlib-and-ipywidgets\n",
    "# the interactive_output function helps to combine the ufo_xy, x, and y ipywidgets.\n",
    "out = ipywidgets.interactive_output(ufo_xy, {'x': x, 'y':y})"
   ]
  },
  {
   "cell_type": "code",
   "execution_count": 22,
   "id": "017a640e",
   "metadata": {
    "scrolled": true
   },
   "outputs": [
    {
     "data": {
      "application/vnd.jupyter.widget-view+json": {
       "model_id": "cd377a227f53483d8baadac8308c6201",
       "version_major": 2,
       "version_minor": 0
      },
      "text/plain": [
       "HBox(children=(VBox(children=(Dropdown(description='Select a categorical column:', options=('date', 'city', 's…"
      ]
     },
     "metadata": {},
     "output_type": "display_data"
    }
   ],
   "source": [
    "ipywidgets.HBox([ipywidgets.VBox([x, y]), out])"
   ]
  },
  {
   "cell_type": "code",
   "execution_count": 23,
   "id": "b9622e57",
   "metadata": {
    "scrolled": true
   },
   "outputs": [
    {
     "data": {
      "application/vnd.jupyter.widget-view+json": {
       "model_id": "e5d875dd6532453ea9e4d9778e5a4c17",
       "version_major": 2,
       "version_minor": 0
      },
      "text/plain": [
       "VBox(children=(HBox(children=(Dropdown(description='Select a categorical column:', options=('date', 'city', 's…"
      ]
     },
     "metadata": {},
     "output_type": "display_data"
    }
   ],
   "source": [
    "#I use HBox first, then use VBox. Becuase the ipywidgets are blocked by the graph\n",
    "ipywidgets.VBox([ipywidgets.HBox([x, y]), out])"
   ]
  },
  {
   "cell_type": "markdown",
   "id": "899ff351",
   "metadata": {},
   "source": [
    "### 1. writeup\n",
    "I want the user would be able to choose any two columns. One is a categorical column and another one is a numerical column. First, I use the select_dytpes function to check if there is a numerical data type and then separate all columns into two groups. Next, I define the ufo_xy function to plot the scatter with the interactive_output function. The interactive_output function helps to connect the ufo_xy function, x, and y ipywidgets. Then, I use VBox and HBox to change the display."
   ]
  },
  {
   "cell_type": "markdown",
   "id": "5119fa71",
   "metadata": {},
   "source": [
    "## 2. Allows the user to pick their colormap.  In class we used the log of the duration in seconds as our color scaling, you can use this or something else (or if you *really* want to get fancy you can let the user decide by using a widget!). Hint: for some ideas about how to add in a colormap widget, check out the extra notes on the Michigan depth map from this week and last week."
   ]
  },
  {
   "cell_type": "code",
   "execution_count": 24,
   "id": "60f7b4f0",
   "metadata": {},
   "outputs": [],
   "source": [
    "#def ufo_xy(x, y, take_log = True):\n",
    "def ufo_plot(x, y, style, color_map):\n",
    "    with plt.style.context(style):\n",
    "        fig = plt.figure(figsize=(10, 10))\n",
    "    #if take_log:\n",
    "        #log = np.log10(ufoDS['duration_seconds'])\n",
    "    #else:\n",
    "        #log = ufo['duration_seconds']\n",
    "        #plt.scatter(x = ufoDS[x], y = ufoDS[y], c = log ,s = 20,cmap = 'rainbow')\n",
    "        plt.scatter(x = ufoDS[x], y = ufoDS[y] ,c = np.log(ufoDS['duration_seconds']),s = 200,cmap = color_map)\n",
    "        plt.xlabel(x.capitalize())\n",
    "        plt.ylabel(y.capitalize())\n",
    "        #plt.imshow(X = ufoDS, cmap= colormap_name)\n",
    "        plt.title(\"%s vs %s\"%(x.capitalize(), y.capitalize()))\n",
    "        plt.show()"
   ]
  },
  {
   "cell_type": "code",
   "execution_count": 25,
   "id": "3fb6f304",
   "metadata": {},
   "outputs": [
    {
     "data": {
      "application/vnd.jupyter.widget-view+json": {
       "model_id": "b541e4155a1b4d29a131841e1b0c22cb",
       "version_major": 2,
       "version_minor": 0
      },
      "text/plain": [
       "Dropdown(description='Select a style:', options=('Solarize_Light2', '_classic_test_patch', 'bmh', 'classic', '…"
      ]
     },
     "metadata": {},
     "output_type": "display_data"
    }
   ],
   "source": [
    "style_widgets = ipywidgets.Dropdown(options = plt.style.available, description = 'Select a style:')\n",
    "style_widgets"
   ]
  },
  {
   "cell_type": "code",
   "execution_count": 26,
   "id": "b89216f6",
   "metadata": {},
   "outputs": [
    {
     "data": {
      "application/vnd.jupyter.widget-view+json": {
       "model_id": "b541e4155a1b4d29a131841e1b0c22cb",
       "version_major": 2,
       "version_minor": 0
      },
      "text/plain": [
       "Dropdown(description='Select a style:', options=('Solarize_Light2', '_classic_test_patch', 'bmh', 'classic', '…"
      ]
     },
     "metadata": {},
     "output_type": "display_data"
    }
   ],
   "source": [
    "style_widgets.style.description_width = 'initial'\n",
    "style_widgets"
   ]
  },
  {
   "cell_type": "code",
   "execution_count": 27,
   "id": "0c17d4c6",
   "metadata": {},
   "outputs": [
    {
     "data": {
      "application/vnd.jupyter.widget-view+json": {
       "model_id": "4c5b5167a1c34380a45a521b54ee8193",
       "version_major": 2,
       "version_minor": 0
      },
      "text/plain": [
       "Dropdown(description='Select a color map', options=('Accent', 'Accent_r', 'Blues', 'Blues_r', 'BrBG', 'BrBG_r'…"
      ]
     },
     "metadata": {},
     "output_type": "display_data"
    }
   ],
   "source": [
    "color_map = ipywidgets.Dropdown(options = plt.colormaps(), description = 'Select a color map')\n",
    "color_map"
   ]
  },
  {
   "cell_type": "code",
   "execution_count": 28,
   "id": "83f92ecc",
   "metadata": {},
   "outputs": [
    {
     "data": {
      "application/vnd.jupyter.widget-view+json": {
       "model_id": "4c5b5167a1c34380a45a521b54ee8193",
       "version_major": 2,
       "version_minor": 0
      },
      "text/plain": [
       "Dropdown(description='Select a color map', options=('Accent', 'Accent_r', 'Blues', 'Blues_r', 'BrBG', 'BrBG_r'…"
      ]
     },
     "metadata": {},
     "output_type": "display_data"
    }
   ],
   "source": [
    "color_map.style.description_width = 'initial'\n",
    "color_map"
   ]
  },
  {
   "cell_type": "code",
   "execution_count": 29,
   "id": "24395f17",
   "metadata": {},
   "outputs": [],
   "source": [
    "out2 = ipywidgets.interactive_output(ufo_plot, {'x': x, 'y':y, 'style':style_widgets, 'color_map':color_map})"
   ]
  },
  {
   "cell_type": "code",
   "execution_count": 30,
   "id": "4b4b91e1",
   "metadata": {},
   "outputs": [
    {
     "data": {
      "application/vnd.jupyter.widget-view+json": {
       "model_id": "6e01368c10274d0b98c0e00c08ea701c",
       "version_major": 2,
       "version_minor": 0
      },
      "text/plain": [
       "VBox(children=(Dropdown(description='Select a categorical column:', options=('date', 'city', 'state', 'country…"
      ]
     },
     "metadata": {},
     "output_type": "display_data"
    }
   ],
   "source": [
    "#ipywidgets.HBox([ipywidgets.VBox([x, y, color_widgets]), out2])\n",
    "ipywidgets.VBox([x, y, style_widgets,color_map, out2])\n"
   ]
  },
  {
   "cell_type": "markdown",
   "id": "9af0158c",
   "metadata": {},
   "source": [
    "### 2. writeup\n",
    "For question 2, I define the ufo_plot function first. I was trying to incorporate the condition clause of the log, but it did not work. Therefore, I took off the log condition and put the log in the plt.scatter function. I design four variables into the ufo_plot function. X is used for the categorical column, y is used for the numerical column, style is used for choosing plot style and color_map is used for picking colormap. I put the style variable into function because I was confused about the differences in style and colormap. This would help me remember what is style and colormap. Next, I use VBox to display the sequences of ipywidgets and the scatter plot."
   ]
  },
  {
   "cell_type": "markdown",
   "id": "5646c059",
   "metadata": {},
   "source": [
    "## 3. \n",
    "1. The field to \"bin\".  (Do you want the user to be able to pick any 2 columns?  Or only certain columns?  Why or why not?). You must support the selection of at least 1 categorical column and at least 1 numerical column.\n",
    "2. For numerical variables: The number of bins."
   ]
  },
  {
   "cell_type": "code",
   "execution_count": 31,
   "id": "e5a8bfbb",
   "metadata": {},
   "outputs": [
    {
     "data": {
      "application/vnd.jupyter.widget-view+json": {
       "model_id": "cc69fb331ee44bc1877eca4db70ce667",
       "version_major": 2,
       "version_minor": 0
      },
      "text/plain": [
       "Dropdown(options=('date', 'city', 'state', 'country', 'shape', 'duration_seconds', 'duration', 'comment', 'rep…"
      ]
     },
     "metadata": {},
     "output_type": "display_data"
    }
   ],
   "source": [
    "# design xy for picking the first column\n",
    "xy = ipywidgets.Dropdown(options = list(ufoDS.columns))\n",
    "xy"
   ]
  },
  {
   "cell_type": "code",
   "execution_count": 32,
   "id": "7f754e0e",
   "metadata": {},
   "outputs": [
    {
     "data": {
      "application/vnd.jupyter.widget-view+json": {
       "model_id": "ed217dfa460245c2a6f37a8b4c7ff595",
       "version_major": 2,
       "version_minor": 0
      },
      "text/plain": [
       "Dropdown(options=('date', 'city', 'state', 'country', 'shape', 'duration_seconds', 'duration', 'comment', 'rep…"
      ]
     },
     "metadata": {},
     "output_type": "display_data"
    }
   ],
   "source": [
    "# design xy2 for picking the second column at the same time\n",
    "xy2 = ipywidgets.Dropdown(options = list(ufoDS.columns))\n",
    "xy2"
   ]
  },
  {
   "cell_type": "code",
   "execution_count": 33,
   "id": "39cdb474",
   "metadata": {},
   "outputs": [],
   "source": [
    "# change the bin numbers\n",
    "bin_number = ipywidgets.IntSlider(min = 1, max = 50, step = 1)"
   ]
  },
  {
   "cell_type": "code",
   "execution_count": 34,
   "id": "12d2b862",
   "metadata": {
    "scrolled": true
   },
   "outputs": [
    {
     "data": {
      "application/vnd.jupyter.widget-view+json": {
       "model_id": "5c21b9d62f4249ccbf18ed0b4633c2c5",
       "version_major": 2,
       "version_minor": 0
      },
      "text/plain": [
       "IntSlider(value=1, max=50, min=1)"
      ]
     },
     "metadata": {},
     "output_type": "display_data"
    }
   ],
   "source": [
    "bin_number"
   ]
  },
  {
   "cell_type": "code",
   "execution_count": 35,
   "id": "9abcd410",
   "metadata": {},
   "outputs": [
    {
     "data": {
      "text/plain": [
       "['duration_seconds', 'latitude', 'longitude']"
      ]
     },
     "execution_count": 35,
     "metadata": {},
     "output_type": "execute_result"
    }
   ],
   "source": [
    "# make a numerical variable list \n",
    "num_list = list(ufoDS.select_dtypes(include=['float64']).columns)\n",
    "num_list"
   ]
  },
  {
   "cell_type": "code",
   "execution_count": 36,
   "id": "90fc257e",
   "metadata": {},
   "outputs": [
    {
     "data": {
      "text/plain": [
       "['date',\n",
       " 'city',\n",
       " 'state',\n",
       " 'country',\n",
       " 'shape',\n",
       " 'duration',\n",
       " 'comment',\n",
       " 'report_date']"
      ]
     },
     "execution_count": 36,
     "metadata": {},
     "output_type": "execute_result"
    }
   ],
   "source": [
    "# make a categorical variable list\n",
    "cate_list = list(ufoDS.select_dtypes(exclude=['float64']).columns)\n",
    "cate_list"
   ]
  },
  {
   "cell_type": "code",
   "execution_count": 37,
   "id": "bbb5afbc",
   "metadata": {},
   "outputs": [],
   "source": [
    "def ufo_binplot(xy, bin_number):\n",
    "    plt.clf()\n",
    "    fig, ax = plt.subplots(figsize=(10,10))\n",
    "    if xy in num_list:\n",
    "        ufoDS.hist(column=xy, ax=ax, bins = bin_number)\n",
    "    else:\n",
    "        plt.bar(xy, height = 4, data = ufoDS, color = 'blue', log = True)\n",
    "    plt.show()"
   ]
  },
  {
   "cell_type": "code",
   "execution_count": 38,
   "id": "7653527b",
   "metadata": {},
   "outputs": [],
   "source": [
    "out3 = ipywidgets.interactive_output(ufo_binplot, {'xy':xy, 'bin_number':bin_number})"
   ]
  },
  {
   "cell_type": "code",
   "execution_count": 39,
   "id": "eecab76b",
   "metadata": {},
   "outputs": [
    {
     "data": {
      "application/vnd.jupyter.widget-view+json": {
       "model_id": "80a7e1e183a14a65947175ffe85d06d4",
       "version_major": 2,
       "version_minor": 0
      },
      "text/plain": [
       "VBox(children=(Dropdown(options=('date', 'city', 'state', 'country', 'shape', 'duration_seconds', 'duration', …"
      ]
     },
     "metadata": {},
     "output_type": "display_data"
    }
   ],
   "source": [
    "ipywidgets.VBox([xy,bin_number, out3])"
   ]
  },
  {
   "cell_type": "code",
   "execution_count": 40,
   "id": "50976e0a",
   "metadata": {},
   "outputs": [],
   "source": [
    "# for the reference\n",
    "# this function is built for only numerical column and test the bin_number ipywidget works\n",
    "def ufo_binplot1(y, bin_number):\n",
    "    plt.clf()\n",
    "    fig, ax = plt.subplots(figsize=(10,10))\n",
    "    ufoDS.hist(column=y, ax=ax, bins = bin_number)\n",
    "    plt.show()"
   ]
  },
  {
   "cell_type": "code",
   "execution_count": 41,
   "id": "2b8aa72c",
   "metadata": {},
   "outputs": [],
   "source": [
    "out4 = ipywidgets.interactive_output(ufo_binplot1, {'y':y, 'bin_number':bin_number})"
   ]
  },
  {
   "cell_type": "code",
   "execution_count": 42,
   "id": "0e81d29f",
   "metadata": {
    "scrolled": true
   },
   "outputs": [
    {
     "data": {
      "application/vnd.jupyter.widget-view+json": {
       "model_id": "06dade2e129043e298791438cc600488",
       "version_major": 2,
       "version_minor": 0
      },
      "text/plain": [
       "VBox(children=(Dropdown(description='Select a numerical column:', options=('duration_seconds', 'latitude', 'lo…"
      ]
     },
     "metadata": {},
     "output_type": "display_data"
    }
   ],
   "source": [
    "ipywidgets.VBox([y,bin_number, out4])"
   ]
  },
  {
   "cell_type": "markdown",
   "id": "53975826",
   "metadata": {},
   "source": [
    "### 3. writeup\n",
    "I design the ufo_binplot function for the user to pick any column, but it only allows pick one in one time. Because I did not find the method to pick two columns at the same time.\n",
    "\n",
    "xy ipywidget. -> user can pick any column\n",
    "xy2 ipywidget. -> user can pick any column\n",
    "bin_number ipywidget. -> user can choose the number of bins\n",
    "num_list. -> list of numerical columns\n",
    "cate_list. -> list of categorical columns\n",
    "\n",
    "I designed the xy and xy2 ipywidgets for picking two columns and used belowed codes:\n",
    "\n",
    "If xy in num_list:\n",
    "\tufoDS.hist(column=xy, ax=ax, bins = bin_number)\n",
    "    if xy2 in cate_list: \n",
    "\t\tplt.bar(xy2, height = 4, data = ufoDS, color = 'blue', log = True)\n",
    "elif xy in cate_list:\n",
    "\tplt.bar(xy, height = 4, data = ufoDS, color = 'blue', log = True)\n",
    "\tif xy2 in num_list:\n",
    " \t\tufoDS.hist(column=xy2, ax=ax, bins = bin_number)\n",
    "\n",
    "The above code did not work, so I only design a function for picking any one column.\n",
    "Also, when I run the ipywidgets.VBox function several times, it would have blank plots. I use the ufo_binplot1 function for reference. This function is built for the numerical column.\n",
    "\n"
   ]
  },
  {
   "cell_type": "code",
   "execution_count": null,
   "id": "1ec22e2b",
   "metadata": {},
   "outputs": [],
   "source": []
  },
  {
   "cell_type": "code",
   "execution_count": null,
   "id": "ab54cb27",
   "metadata": {},
   "outputs": [],
   "source": []
  },
  {
   "cell_type": "code",
   "execution_count": null,
   "id": "a5e3d026",
   "metadata": {},
   "outputs": [],
   "source": []
  },
  {
   "cell_type": "code",
   "execution_count": null,
   "id": "9c5fdcb8",
   "metadata": {},
   "outputs": [],
   "source": []
  },
  {
   "cell_type": "code",
   "execution_count": null,
   "id": "31d4a42b",
   "metadata": {},
   "outputs": [],
   "source": []
  },
  {
   "cell_type": "code",
   "execution_count": null,
   "id": "5b170661",
   "metadata": {},
   "outputs": [],
   "source": []
  }
 ],
 "metadata": {
  "kernelspec": {
   "display_name": "Python 3 (ipykernel)",
   "language": "python",
   "name": "python3"
  },
  "language_info": {
   "codemirror_mode": {
    "name": "ipython",
    "version": 3
   },
   "file_extension": ".py",
   "mimetype": "text/x-python",
   "name": "python",
   "nbconvert_exporter": "python",
   "pygments_lexer": "ipython3",
   "version": "3.7.12"
  }
 },
 "nbformat": 4,
 "nbformat_minor": 5
}
